{
 "cells": [
  {
   "cell_type": "code",
   "execution_count": 2,
   "metadata": {},
   "outputs": [
    {
     "data": {
      "text/plain": [
       "False"
      ]
     },
     "execution_count": 2,
     "metadata": {},
     "output_type": "execute_result"
    }
   ],
   "source": [
    "'''\n",
    "R 1.1 Write a short Python function, is multiple(n, m), that takes two integer\n",
    "values and returns True if n is a multiple of m, that is, n = mi for some\n",
    "integer i, and False otherwise.\n",
    "'''\n",
    "\n",
    "def is_multiple(n, m):\n",
    "\n",
    "    \"\"\"\n",
    "    In this function,we need to check if n is a multiple of M.To do so,\n",
    "    what we can check is that if n%m ==0,that means that the remainder of division\n",
    "    is zero so the quotient will be number of times n=mi\n",
    "    \"\"\"\n",
    "\n",
    "    # if n % m == 0:\n",
    "    #     return True\n",
    "    # else:\n",
    "    #     return False\n",
    "\n",
    "    return True if int(n) % int(m) == 0 else False\n",
    "\n",
    "op = is_multiple(6,8)\n",
    "op"
   ]
  },
  {
   "cell_type": "code",
   "execution_count": 4,
   "metadata": {},
   "outputs": [
    {
     "data": {
      "text/plain": [
       "False"
      ]
     },
     "execution_count": 4,
     "metadata": {},
     "output_type": "execute_result"
    }
   ],
   "source": [
    "'''\n",
    "R 1.2 Write a short Python function, is even(k), that takes an integer value and\n",
    "returns True if k is even, and False otherwise. However, your function\n",
    "cannot use the multiplication, modulo, or division operators.\n",
    "'''\n",
    "\n",
    "def is_even(k):\n",
    "\n",
    "    \"\"\"\n",
    "    The challenge here is to check if a number is even or not but multiplication,\n",
    "    modulo and division cannot be used. \n",
    "\n",
    "    https://www.geeksforgeeks.org/check-if-a-number-is-odd-or-even-using-bitwise-operators/\n",
    "    \n",
    "    Based on this logic. I tried to use bitwise operators but did not spot the pattern\n",
    "\n",
    "    What happens is that once we do the number xor with 1,if it's an even number,the final\n",
    "    output will be n+1 else it will be n-1 for odd numbers\n",
    "    \"\"\"\n",
    "\n",
    "    return True if k ^ 1 == k + 1 else False\n",
    "\n",
    "op = is_even(3)\n",
    "op"
   ]
  },
  {
   "cell_type": "code",
   "execution_count": 6,
   "metadata": {},
   "outputs": [
    {
     "data": {
      "text/plain": [
       "(1, 54)"
      ]
     },
     "execution_count": 6,
     "metadata": {},
     "output_type": "execute_result"
    }
   ],
   "source": [
    "'''\n",
    "R 1.3 Write a short Python function, minmax(data), that takes a sequence of\n",
    "one or more numbers, and returns the smallest and largest numbers, in the\n",
    "form of a tuple of length two. Do not use the built-in functions min or\n",
    "max in implementing your solution.\n",
    "'''\n",
    "\n",
    "def minmax(items):\n",
    "    \n",
    "    \"\"\"\n",
    "    We need to return the min and max numbers in the items list without using the min/max\n",
    "    function\n",
    "    \"\"\"\n",
    "\n",
    "    # Keeping first number so number will get initially initialized from our numbers sequence\n",
    "    min_number, max_number = items[0], 0\n",
    "\n",
    "    for item in items:\n",
    "        if item > max_number:\n",
    "            max_number = item\n",
    "        if item < min_number:\n",
    "            min_number = item\n",
    "    return min_number, max_number\n",
    "\n",
    "min_number,max_number = minmax([3,2,1,54,21])\n",
    "\n",
    "min_number,max_number"
   ]
  },
  {
   "cell_type": "code",
   "execution_count": 7,
   "metadata": {},
   "outputs": [
    {
     "data": {
      "text/plain": [
       "285"
      ]
     },
     "execution_count": 7,
     "metadata": {},
     "output_type": "execute_result"
    }
   ],
   "source": [
    "'''\n",
    "R 1.4 Write a short Python function that takes a positive integer n and returns\n",
    "the sum of the squares of all the positive integers smaller than n.\n",
    "'''\n",
    "\n",
    "def sum_squares_naive(n):\n",
    "\n",
    "    \"\"\"\n",
    "    In this,we need to calculate the sum of squares for all integers less than N\n",
    "    \"\"\"\n",
    "    square_sum = 0\n",
    "    for item in range(n):\n",
    "        square_sum += pow(item, 2)\n",
    "    return square_sum\n",
    "\n",
    "op = sum_squares_naive(10)\n",
    "op"
   ]
  },
  {
   "cell_type": "code",
   "execution_count": 8,
   "metadata": {},
   "outputs": [
    {
     "data": {
      "text/plain": [
       "285"
      ]
     },
     "execution_count": 8,
     "metadata": {},
     "output_type": "execute_result"
    }
   ],
   "source": [
    "'''\n",
    "R 1.5 Give a single command that computes the sum from Exercise R-1.4, rely-\n",
    "ing on Python’s comprehension syntax and the built-in sum function.\n",
    "'''\n",
    "\n",
    "def sum_squares_comprehension(n):\n",
    "\n",
    "    \"\"\"\n",
    "    In this,we need to calculate the sum of squares for all integers less than N using list\n",
    "    comprehension and sum function\n",
    "    \"\"\"\n",
    "\n",
    "    return sum([x ** 2 for x in range(n)])\n",
    "\n",
    "op = sum_squares_comprehension(10)\n",
    "op"
   ]
  },
  {
   "cell_type": "code",
   "execution_count": 9,
   "metadata": {},
   "outputs": [
    {
     "data": {
      "text/plain": [
       "165"
      ]
     },
     "execution_count": 9,
     "metadata": {},
     "output_type": "execute_result"
    }
   ],
   "source": [
    "'''\n",
    "R 1.6 Write a short Python function that takes a positive integer n and returns\n",
    "the sum of the squares of all the odd positive integers smaller than n.\n",
    "'''\n",
    "\n",
    "def sum_squares_odd_naive(n):\n",
    "\n",
    "    \"\"\"\n",
    "    In this,we need to calculate the sum of squares for all odd integers less than N using list\n",
    "    comprehension and sum function\n",
    "    \"\"\"\n",
    "\n",
    "    square_sum = 0\n",
    "    for item in range(1, n, 2):\n",
    "        square_sum += pow(item, 2)\n",
    "    return square_sum\n",
    "\n",
    "op = sum_squares_odd_naive(10)\n",
    "op"
   ]
  },
  {
   "cell_type": "code",
   "execution_count": 10,
   "metadata": {},
   "outputs": [
    {
     "data": {
      "text/plain": [
       "165"
      ]
     },
     "execution_count": 10,
     "metadata": {},
     "output_type": "execute_result"
    }
   ],
   "source": [
    "'''\n",
    "R 1.7 Give a single command that computes the sum from Exercise R-1.6, rely-\n",
    "ing on Python’s comprehension syntax and the built-in sum function.\n",
    "'''\n",
    "\n",
    "def sum_squares_odd(n):\n",
    "\n",
    "    \"\"\"\n",
    "    In this,we need to calculate the sum of squares for all odd integers less than N using list\n",
    "    comprehension and sum function\n",
    "    \"\"\"\n",
    "\n",
    "    return sum(x ** 2 for x in range(1, n, 2))\n",
    "\n",
    "op = sum_squares_odd(10)\n",
    "op"
   ]
  },
  {
   "cell_type": "code",
   "execution_count": 11,
   "metadata": {},
   "outputs": [
    {
     "data": {
      "text/plain": [
       "'\\nR 1.8 Python allows negative integers to be used as indices into a sequence,\\nsuch as a string. If string s has length n, and expression s[k] is used for in-\\ndex −n ≤ k < 0, what is the equivalent index j ≥ 0 such that s[j] references\\nthe same element?\\n\\nAns: The answer would be 0<=k<n-1(k=j-n)\\n'"
      ]
     },
     "execution_count": 11,
     "metadata": {},
     "output_type": "execute_result"
    }
   ],
   "source": [
    "'''\n",
    "R 1.8 Python allows negative integers to be used as indices into a sequence,\n",
    "such as a string. If string s has length n, and expression s[k] is used for in-\n",
    "dex −n ≤ k < 0, what is the equivalent index j ≥ 0 such that s[j] references\n",
    "the same element?\n",
    "\n",
    "Ans: The answer would be 0<=k<n-1(k=j-n)\n",
    "'''"
   ]
  },
  {
   "cell_type": "code",
   "execution_count": 12,
   "metadata": {},
   "outputs": [
    {
     "data": {
      "text/plain": [
       "[50, 60, 70, 80]"
      ]
     },
     "execution_count": 12,
     "metadata": {},
     "output_type": "execute_result"
    }
   ],
   "source": [
    "'''\n",
    "R 1.9 What parameters should be sent to the range constructor, to produce a\n",
    "range with values 50, 60, 70, 80?\n",
    "'''\n",
    "\n",
    "new_range=list(range(50,90,10))\n",
    "new_range"
   ]
  },
  {
   "cell_type": "code",
   "execution_count": 13,
   "metadata": {},
   "outputs": [
    {
     "data": {
      "text/plain": [
       "[8, 6, 4, 2, 0, -2, -4, -6, -8]"
      ]
     },
     "execution_count": 13,
     "metadata": {},
     "output_type": "execute_result"
    }
   ],
   "source": [
    "'''\n",
    "R 1.10 What parameters should be sent to the range constructor, to produce a\n",
    "range with values 8, 6, 4, 2, 0, −2, −4, −6, −8?\n",
    "'''\n",
    "\n",
    "new_range=list(range(8,-10,-2))\n",
    "new_range"
   ]
  },
  {
   "cell_type": "code",
   "execution_count": 20,
   "metadata": {},
   "outputs": [
    {
     "data": {
      "text/plain": [
       "[1, 2, 4, 8, 16, 32, 64, 128, 256]"
      ]
     },
     "execution_count": 20,
     "metadata": {},
     "output_type": "execute_result"
    }
   ],
   "source": [
    "'''\n",
    "R 1.11 Demonstrate how to use Python’s list comprehension syntax to produce\n",
    "the list [1, 2, 4, 8, 16, 32, 64, 128, 256].\n",
    "'''\n",
    "\n",
    "new_range=[2**i for i in range(9)]\n",
    "new_range"
   ]
  },
  {
   "cell_type": "code",
   "execution_count": 36,
   "metadata": {},
   "outputs": [
    {
     "name": "stdin",
     "output_type": "stream",
     "text": [
      " 1 2 3 4 0 9 8 7\n"
     ]
    },
    {
     "data": {
      "text/plain": [
       "1"
      ]
     },
     "execution_count": 36,
     "metadata": {},
     "output_type": "execute_result"
    }
   ],
   "source": [
    "'''\n",
    "R 1.12 Python’s random module includes a function choice(data) that returns a\n",
    "random element from a non-empty sequence. The random module in-\n",
    "cludes a more basic function randrange, with parameterization similar to\n",
    "the built-in range function, that return a random choice from the given\n",
    "range. Using only the randrange function, implement your own version\n",
    "of the choice function.\n",
    "'''\n",
    "\n",
    "from random import randrange\n",
    "\n",
    "list_input = list(map(int,input().split()))\n",
    "new_item = randrange(len(list_input))\n",
    "\n",
    "list_input[new_item]"
   ]
  },
  {
   "cell_type": "code",
   "execution_count": 49,
   "metadata": {},
   "outputs": [
    {
     "name": "stdin",
     "output_type": "stream",
     "text": [
      " 1 2 3\n"
     ]
    },
    {
     "name": "stdout",
     "output_type": "stream",
     "text": [
      "3\n",
      "2\n",
      "1\n"
     ]
    }
   ],
   "source": [
    "'''\n",
    "C 1.13  Write a pseudo-code description of a function that reverses a list of n\n",
    "integers, so that the numbers are listed in the opposite order than they\n",
    "were before, and compare this method to an equivalent Python function\n",
    "for doing the same thing.\n",
    "'''\n",
    "\n",
    "list_input = list(map(int,input().split()))\n",
    "\n",
    "for index in range(len(list_input)-1,-1,-1):\n",
    "    print(list_input[index])"
   ]
  },
  {
   "cell_type": "code",
   "execution_count": 61,
   "metadata": {},
   "outputs": [
    {
     "name": "stdout",
     "output_type": "stream",
     "text": [
      "No Distinct Numbers Found\n"
     ]
    }
   ],
   "source": [
    "'''\n",
    "C 1.14 Write a short Python function that takes a sequence of integer values and\n",
    "determines if there is a distinct pair of numbers in the sequence whose\n",
    "product is odd.\n",
    "'''\n",
    "\n",
    "def product_odd(seq_integer):\n",
    "    for index in range(len(seq_integer)):\n",
    "        #Checking For Correct Index\n",
    "        if (index+1)<len(seq_integer) and seq_integer[index+1]!=seq_integer[index]:\n",
    "            prod_unique=seq_integer[index+1]*seq_integer[index]\n",
    "            \n",
    "            if prod_unique%2!=0:\n",
    "                print(f'The Unique numbers are {seq_integer[index]} and {seq_integer[index+1]}')\n",
    "                break\n",
    "    \n",
    "    print('No Distinct Numbers Found')\n",
    "                \n",
    "input_list = product_odd([3,3]) "
   ]
  },
  {
   "cell_type": "code",
   "execution_count": 64,
   "metadata": {},
   "outputs": [
    {
     "data": {
      "text/plain": [
       "True"
      ]
     },
     "execution_count": 64,
     "metadata": {},
     "output_type": "execute_result"
    }
   ],
   "source": [
    "'''\n",
    "C 1.15 Write a Python function that takes a sequence of numbers and determines\n",
    "if all the numbers are different from each other (that is, they are distinct).\n",
    "\n",
    "Better than the Earlier solution where i was thinking \n",
    "'''\n",
    "\n",
    "def is_distinct(list_input):\n",
    "    same_dict={}\n",
    "    \n",
    "    for item in list_input:\n",
    "        if item not in same_dict:\n",
    "            same_dict[item]=1      \n",
    "        else:\n",
    "            return False\n",
    "    return True\n",
    "\n",
    "new_check=is_distinct([1,2,3,4])\n",
    "new_check"
   ]
  },
  {
   "cell_type": "code",
   "execution_count": 65,
   "metadata": {},
   "outputs": [
    {
     "data": {
      "text/plain": [
       "'\\nC 1.16  In our implementation of the scale function (page 25), the body of the loop\\nexecutes the command data[j] = factor. We have discussed that numeric\\ntypes are immutable, and that use of the = operator in this context causes\\nthe creation of a new instance (not the mutation of an existing instance).\\nHow is it still possible, then, that our implementation of scale changes the\\nactual parameter sent by the caller?\\n'"
      ]
     },
     "execution_count": 65,
     "metadata": {},
     "output_type": "execute_result"
    }
   ],
   "source": [
    "'''\n",
    "C 1.16  In our implementation of the scale function (page 25), the body of the loop\n",
    "executes the command data[j] = factor. We have discussed that numeric\n",
    "types are immutable, and that use of the = operator in this context causes\n",
    "the creation of a new instance (not the mutation of an existing instance).\n",
    "How is it still possible, then, that our implementation of scale changes the\n",
    "actual parameter sent by the caller?\n",
    "'''\n",
    "\n",
    "#In this case we Actually modify the actual incomming value which we use to loop around and assign it to \n",
    "#the element accordingly "
   ]
  },
  {
   "cell_type": "code",
   "execution_count": 66,
   "metadata": {},
   "outputs": [
    {
     "data": {
      "text/plain": [
       "'\\nC 1.17 Had we implemented the scale function (page 25) as follows, does it work\\nproperly?\\ndef scale(data, factor):\\nfor val in data:\\nval = factor\\nExplain why or why not.\\n'"
      ]
     },
     "execution_count": 66,
     "metadata": {},
     "output_type": "execute_result"
    }
   ],
   "source": [
    "'''\n",
    "C 1.17 Had we implemented the scale function (page 25) as follows, does it work\n",
    "properly?\n",
    "def scale(data, factor):\n",
    "for val in data:\n",
    "val = factor\n",
    "Explain why or why not.\n",
    "'''\n",
    "\n",
    "#In this case valu is created as a local variable which does not result in any changes"
   ]
  },
  {
   "cell_type": "code",
   "execution_count": 69,
   "metadata": {},
   "outputs": [
    {
     "data": {
      "text/plain": [
       "[0, 2, 6, 12, 20, 30, 42, 56, 72, 90]"
      ]
     },
     "execution_count": 69,
     "metadata": {},
     "output_type": "execute_result"
    }
   ],
   "source": [
    "'''\n",
    "C 1.18 Demonstrate how to use Python’s list comprehension syntax to produce\n",
    "the list [0, 2, 6, 12, 20, 30, 42, 56, 72, 90].\n",
    "'''\n",
    "\n",
    "new_list=[(x*x)+x for x in range(0,10)]\n",
    "new_list"
   ]
  },
  {
   "cell_type": "code",
   "execution_count": 76,
   "metadata": {},
   "outputs": [
    {
     "data": {
      "text/plain": [
       "['a',\n",
       " 'b',\n",
       " 'c',\n",
       " 'd',\n",
       " 'e',\n",
       " 'f',\n",
       " 'g',\n",
       " 'h',\n",
       " 'i',\n",
       " 'j',\n",
       " 'k',\n",
       " 'l',\n",
       " 'm',\n",
       " 'n',\n",
       " 'o',\n",
       " 'p',\n",
       " 'q',\n",
       " 'r',\n",
       " 's',\n",
       " 't',\n",
       " 'u',\n",
       " 'v',\n",
       " 'w',\n",
       " 'x',\n",
       " 'y',\n",
       " 'z']"
      ]
     },
     "execution_count": 76,
     "metadata": {},
     "output_type": "execute_result"
    }
   ],
   "source": [
    "'''\n",
    "C 1.19 Demonstrate how to use Python’s list comprehension syntax to produce\n",
    "the list [ a , b , c , ..., z ], but without having to type all 26 such\n",
    "characters literally.\n",
    "\n",
    "2 Possible Solutions.Both Work Fine\n",
    "'''\n",
    "\n",
    "from string import ascii_lowercase\n",
    "\n",
    "new_data=[x for x in ascii_lowercase]\n",
    "new_data=[chr(x+96) for x in range(1,27)]\n",
    "new_data"
   ]
  },
  {
   "cell_type": "code",
   "execution_count": 77,
   "metadata": {},
   "outputs": [],
   "source": [
    "'''\n",
    "C 1.20 Python’s random module includes a function shuffle(data) that accepts a\n",
    "list of elements and randomly reorders the elements so that each possi-\n",
    "ble order occurs with equal probability. The random module includes a\n",
    "more basic function randint(a, b) that returns a uniformly random integer\n",
    "from a to b (including both endpoints). Using only the randint function,\n",
    "implement your own version of the shuffle function.\n",
    "'''\n",
    "\n",
    "from random import randint\n",
    "\n",
    "no_of_data = len(data)\n",
    "for i in range(no_of_data-1, 0, -1):\n",
    "    j = randint(0, i-1)\n",
    "    data[i], data[j] = data[j], data[i]"
   ]
  },
  {
   "cell_type": "code",
   "execution_count": 79,
   "metadata": {},
   "outputs": [
    {
     "name": "stdin",
     "output_type": "stream",
     "text": [
      " honey is a dog\n",
      " he is smart\n",
      " he is cute\n",
      " ctrl-D\n"
     ]
    },
    {
     "ename": "KeyboardInterrupt",
     "evalue": "Interrupted by user",
     "output_type": "error",
     "traceback": [
      "\u001b[0;31m---------------------------------------------------------------------------\u001b[0m",
      "\u001b[0;31mKeyboardInterrupt\u001b[0m                         Traceback (most recent call last)",
      "\u001b[0;32m<ipython-input-79-4e09c2a26813>\u001b[0m in \u001b[0;36m<module>\u001b[0;34m\u001b[0m\n\u001b[1;32m      8\u001b[0m     \u001b[0;32mtry\u001b[0m\u001b[0;34m:\u001b[0m\u001b[0;34m\u001b[0m\u001b[0;34m\u001b[0m\u001b[0m\n\u001b[1;32m      9\u001b[0m         \u001b[0msample_list\u001b[0m\u001b[0;34m=\u001b[0m\u001b[0;34m[\u001b[0m\u001b[0;34m]\u001b[0m\u001b[0;34m\u001b[0m\u001b[0;34m\u001b[0m\u001b[0m\n\u001b[0;32m---> 10\u001b[0;31m         \u001b[0msample_list\u001b[0m\u001b[0;34m.\u001b[0m\u001b[0mappend\u001b[0m\u001b[0;34m(\u001b[0m\u001b[0minput\u001b[0m\u001b[0;34m(\u001b[0m\u001b[0;34m)\u001b[0m\u001b[0;34m)\u001b[0m\u001b[0;34m\u001b[0m\u001b[0;34m\u001b[0m\u001b[0m\n\u001b[0m\u001b[1;32m     11\u001b[0m \u001b[0;34m\u001b[0m\u001b[0m\n\u001b[1;32m     12\u001b[0m     \u001b[0;32mexcept\u001b[0m \u001b[0mEOFError\u001b[0m\u001b[0;34m:\u001b[0m\u001b[0;34m\u001b[0m\u001b[0;34m\u001b[0m\u001b[0m\n",
      "\u001b[0;32m~/.local/lib/python3.8/site-packages/ipykernel/kernelbase.py\u001b[0m in \u001b[0;36mraw_input\u001b[0;34m(self, prompt)\u001b[0m\n\u001b[1;32m    858\u001b[0m                 \u001b[0;34m\"raw_input was called, but this frontend does not support input requests.\"\u001b[0m\u001b[0;34m\u001b[0m\u001b[0;34m\u001b[0m\u001b[0m\n\u001b[1;32m    859\u001b[0m             )\n\u001b[0;32m--> 860\u001b[0;31m         return self._input_request(str(prompt),\n\u001b[0m\u001b[1;32m    861\u001b[0m             \u001b[0mself\u001b[0m\u001b[0;34m.\u001b[0m\u001b[0m_parent_ident\u001b[0m\u001b[0;34m,\u001b[0m\u001b[0;34m\u001b[0m\u001b[0;34m\u001b[0m\u001b[0m\n\u001b[1;32m    862\u001b[0m             \u001b[0mself\u001b[0m\u001b[0;34m.\u001b[0m\u001b[0m_parent_header\u001b[0m\u001b[0;34m,\u001b[0m\u001b[0;34m\u001b[0m\u001b[0;34m\u001b[0m\u001b[0m\n",
      "\u001b[0;32m~/.local/lib/python3.8/site-packages/ipykernel/kernelbase.py\u001b[0m in \u001b[0;36m_input_request\u001b[0;34m(self, prompt, ident, parent, password)\u001b[0m\n\u001b[1;32m    902\u001b[0m             \u001b[0;32mexcept\u001b[0m \u001b[0mKeyboardInterrupt\u001b[0m\u001b[0;34m:\u001b[0m\u001b[0;34m\u001b[0m\u001b[0;34m\u001b[0m\u001b[0m\n\u001b[1;32m    903\u001b[0m                 \u001b[0;31m# re-raise KeyboardInterrupt, to truncate traceback\u001b[0m\u001b[0;34m\u001b[0m\u001b[0;34m\u001b[0m\u001b[0;34m\u001b[0m\u001b[0m\n\u001b[0;32m--> 904\u001b[0;31m                 \u001b[0;32mraise\u001b[0m \u001b[0mKeyboardInterrupt\u001b[0m\u001b[0;34m(\u001b[0m\u001b[0;34m\"Interrupted by user\"\u001b[0m\u001b[0;34m)\u001b[0m \u001b[0;32mfrom\u001b[0m \u001b[0;32mNone\u001b[0m\u001b[0;34m\u001b[0m\u001b[0;34m\u001b[0m\u001b[0m\n\u001b[0m\u001b[1;32m    905\u001b[0m             \u001b[0;32mexcept\u001b[0m \u001b[0mException\u001b[0m \u001b[0;32mas\u001b[0m \u001b[0me\u001b[0m\u001b[0;34m:\u001b[0m\u001b[0;34m\u001b[0m\u001b[0;34m\u001b[0m\u001b[0m\n\u001b[1;32m    906\u001b[0m                 \u001b[0mself\u001b[0m\u001b[0;34m.\u001b[0m\u001b[0mlog\u001b[0m\u001b[0;34m.\u001b[0m\u001b[0mwarning\u001b[0m\u001b[0;34m(\u001b[0m\u001b[0;34m\"Invalid Message:\"\u001b[0m\u001b[0;34m,\u001b[0m \u001b[0mexc_info\u001b[0m\u001b[0;34m=\u001b[0m\u001b[0;32mTrue\u001b[0m\u001b[0;34m)\u001b[0m\u001b[0;34m\u001b[0m\u001b[0;34m\u001b[0m\u001b[0m\n",
      "\u001b[0;31mKeyboardInterrupt\u001b[0m: Interrupted by user"
     ]
    }
   ],
   "source": [
    "'''\n",
    "C 1.21 Write a Python program that repeatedly reads lines from standard input\n",
    "until an EOFError is raised, and then outputs those lines in reverse order\n",
    "(a user can indicate end of input by typing ctrl-D).\n",
    "'''\n",
    "while True:\n",
    "    sample_list=[]\n",
    "    try:\n",
    "        sample_list.append(input())\n",
    "    except EOFError:\n",
    "        pass\n",
    "    \n",
    "print(' '.join(x for x in sample_list[::-1]))"
   ]
  },
  {
   "cell_type": "code",
   "execution_count": 81,
   "metadata": {},
   "outputs": [
    {
     "data": {
      "text/plain": [
       "[1, 8, 15]"
      ]
     },
     "execution_count": 81,
     "metadata": {},
     "output_type": "execute_result"
    }
   ],
   "source": [
    "'''\n",
    "C 1.22 Write a short Python program that takes two arrays a and b of length n\n",
    "storing int values, and returns the dot product of a and b. That is, it returns\n",
    "an array c of length n such that c[i] = a[i] · b[i], for i = 0, . . . , n − 1.\n",
    "'''\n",
    "\n",
    "from typing import List\n",
    "def dot_product(a:List[int],b:List[int]):\n",
    "    return [a*b for a,b in zip(a,b)]\n",
    "\n",
    "product_dot=dot_product([1,2,3],[1,4,5])\n",
    "\n",
    "product_dot"
   ]
  },
  {
   "cell_type": "code",
   "execution_count": 82,
   "metadata": {},
   "outputs": [
    {
     "name": "stdout",
     "output_type": "stream",
     "text": [
      "“Don’t try buffer overflow attacks in Python!\n"
     ]
    }
   ],
   "source": [
    "'''\n",
    "C 1.23  Give an example of a Python code fragment that attempts to write an ele-\n",
    "ment to a list based on an index that may be out of bounds. If that index\n",
    "is out of bounds, the program should catch the exception that results, and\n",
    "print the following error message:\n",
    "'''\n",
    "\n",
    "sample_list=[]\n",
    "\n",
    "try:\n",
    "    sample_list[0]=2\n",
    "except IndexError:\n",
    "    print('“Don’t try buffer overflow attacks in Python!')"
   ]
  },
  {
   "cell_type": "code",
   "execution_count": 84,
   "metadata": {},
   "outputs": [
    {
     "name": "stdin",
     "output_type": "stream",
     "text": [
      " qw\n"
     ]
    },
    {
     "data": {
      "text/plain": [
       "0"
      ]
     },
     "execution_count": 84,
     "metadata": {},
     "output_type": "execute_result"
    }
   ],
   "source": [
    "'''\n",
    "C 1.24 Write a Short Python Function to Count the No of Vowels in a string(Can keep this basic)\n",
    "'''\n",
    "\n",
    "count_vowels=0\n",
    "vowels_string='aeiou'\n",
    "\n",
    "for item in input():\n",
    "    if item in vowels_string:\n",
    "        count_vowels+=1\n",
    "        \n",
    "count_vowels"
   ]
  },
  {
   "cell_type": "code",
   "execution_count": 17,
   "metadata": {},
   "outputs": [
    {
     "name": "stdin",
     "output_type": "stream",
     "text": [
      " Let's try, Mike.\n"
     ]
    },
    {
     "name": "stdout",
     "output_type": "stream",
     "text": [
      "Lets try Mike\n"
     ]
    }
   ],
   "source": [
    "'''\n",
    "C 1.25 Write a short Python function that takes a string s, representing a sentence,\n",
    "and returns a copy of the string with all punctuation removed. For exam-\n",
    "ple, if given the string \"Let's try, Mike.\", this function would return\n",
    "\"Lets try Mike\".\n",
    "'''\n",
    "\n",
    "from string import punctuation\n",
    "import re\n",
    "\n",
    "def string_change(test_str):\n",
    "    \n",
    "    #Two Possible Version\n",
    "    return test_str.translate(test_str.maketrans('', '',punctuation))\n",
    "    return \"\".join(x for x in test_str if x not in punctuation)\n",
    "\n",
    "test_str = input()\n",
    "print(string_change(test_str))"
   ]
  },
  {
   "cell_type": "code",
   "execution_count": 25,
   "metadata": {},
   "outputs": [
    {
     "name": "stdin",
     "output_type": "stream",
     "text": [
      " 1 2 3\n",
      " -\n"
     ]
    },
    {
     "name": "stdout",
     "output_type": "stream",
     "text": [
      "impossible\n"
     ]
    }
   ],
   "source": [
    "'''\n",
    "C 1.26 Write a short program that takes as input three integers, a, b, and c, from\n",
    "the console and determines if they can be used in a correct arithmetic\n",
    "formula (in the given order), like “a + b = c,” “a = b − c,” or “a ∗ b = c.”\n",
    "\n",
    "So in this case we make a design choice that at any point in time we give a prefixed\n",
    "operator. This can be changed to include several operators and check them turn by turn\n",
    "for each case\n",
    "'''\n",
    "\n",
    "a,b,c=map(int,input().split())\n",
    "operator = input()\n",
    "string_case_1 = f'{b} {operator} {c}'\n",
    "string_case_2 = f'{a} {operator} {b}'\n",
    "string_case_3 = f'{a} {operator} {b}'\n",
    "\n",
    "if a == eval(string_case_1) or eval(string_case_2) == c or eval(string_case_3) == c:\n",
    "    print(\"Possible\")\n",
    "else:\n",
    "    print(\"impossible\")"
   ]
  },
  {
   "cell_type": "code",
   "execution_count": 35,
   "metadata": {},
   "outputs": [
    {
     "data": {
      "text/plain": [
       "[1, 2, 5, 10]"
      ]
     },
     "execution_count": 35,
     "metadata": {},
     "output_type": "execute_result"
    }
   ],
   "source": [
    "'''\n",
    "C 1.27 In Section 1.8, we provided three different implementations of a generator\n",
    "that computes factors of a given integer. The third of those implementa-\n",
    "tions, from page 41, was the most efficient, but we noted that it did not\n",
    "yield the factors in increasing order. Modify the generator so that it reports\n",
    "factors in increasing order, while maintaining its general performance ad-\n",
    "vantages.\n",
    "\n",
    "Got Confused Here.Had to lookup online for this\n",
    "'''\n",
    "\n",
    "def factors(n):\n",
    "    k=1\n",
    "    highest_factors = []\n",
    "    while k*k < n:\n",
    "        if n % k == 0:\n",
    "            yield k\n",
    "            highest_factors.append(n // k)\n",
    "        k += 1\n",
    "    if k*k == n:\n",
    "        yield k\n",
    "    \n",
    "    #Reversing since factors go from highest to lowest\n",
    "    for item in highest_factors[::-1]:\n",
    "        yield item\n",
    "        \n",
    "list(factors(10))"
   ]
  },
  {
   "cell_type": "code",
   "execution_count": 42,
   "metadata": {},
   "outputs": [
    {
     "data": {
      "text/plain": [
       "5.0"
      ]
     },
     "execution_count": 42,
     "metadata": {},
     "output_type": "execute_result"
    }
   ],
   "source": [
    "'''\n",
    "C 1.28 Give Dynamic Norm based on no of arguments\n",
    "\n",
    "https://stackoverflow.com/questions/19255120/is-there-a-short-hand-for-nth-root-of-x-in-python\n",
    "'''\n",
    "\n",
    "import math\n",
    "\n",
    "def get_norm(v,p=None):\n",
    "    if p:\n",
    "        return sum(map(lambda x:x**p,v))**(1/p)\n",
    "    else:\n",
    "        #Nice use of Multiple Functions\n",
    "        return math.sqrt(sum(map(lambda x:x**2,v)))\n",
    "    \n",
    "norm_gen = get_norm([4,3],3)\n",
    "norm_gen"
   ]
  },
  {
   "cell_type": "code",
   "execution_count": null,
   "metadata": {},
   "outputs": [],
   "source": []
  }
 ],
 "metadata": {
  "kernelspec": {
   "display_name": "Python 3",
   "language": "python",
   "name": "python3"
  },
  "language_info": {
   "codemirror_mode": {
    "name": "ipython",
    "version": 3
   },
   "file_extension": ".py",
   "mimetype": "text/x-python",
   "name": "python",
   "nbconvert_exporter": "python",
   "pygments_lexer": "ipython3",
   "version": "3.8.2"
  }
 },
 "nbformat": 4,
 "nbformat_minor": 4
}
