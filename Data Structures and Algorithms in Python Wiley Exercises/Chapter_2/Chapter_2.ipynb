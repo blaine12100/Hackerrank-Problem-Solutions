{
 "cells": [
  {
   "cell_type": "markdown",
   "metadata": {},
   "source": [
    "This Notebok contains solutions for Chapter 2(Object Oriented Programming)"
   ]
  },
  {
   "cell_type": "code",
   "execution_count": null,
   "metadata": {},
   "outputs": [],
   "source": [
    "'''\n",
    "R 2.1 Give three examples of life-critical software applications.\n",
    "\n",
    "1) Any Kind of Machine which has any software component like a Ventilator or Chemotheray machine using which we\n",
    "can configure the amount of radiation/oxygen to send to the body\n",
    "\n",
    "2) A Robot Which Performs Remote Surgery Since it uses Video Conferencing and other stuffs to perform\n",
    "it's actions.\n",
    "\n",
    "3) A Pacemaker because the pacemaker can decide how much heart beat is to be given based on some limit\n",
    "ing conditions\n",
    "\n",
    "https://www.wired.com/2016/02/i-want-to-know-what-code-is-running-inside-my-body/\n",
    "'''"
   ]
  },
  {
   "cell_type": "code",
   "execution_count": null,
   "metadata": {},
   "outputs": [],
   "source": [
    "'''\n",
    "R-2.2 Give an example of a software application in which adaptability can mean\n",
    "the difference between a prolonged lifetime of sales and bankruptcy\n",
    "\n",
    "An Example of an adaptable software could be some kind of a Software Sales Processing Software like \n",
    "Tally in which if the code is easily modifiable then it is able to incorporate changes in response to\n",
    "market conditions but if it is unable to do so then the company itself can become bankrupt since some\n",
    "other competitor can build this software and nobody will buy it then.\n",
    "'''"
   ]
  },
  {
   "cell_type": "code",
   "execution_count": null,
   "metadata": {},
   "outputs": [],
   "source": [
    "'''\n",
    "R-2.3 Describe a component from a text-editor GUI and the methods that it en-\n",
    "capsulates.\n",
    "\n",
    "A Simple component will be the component for Save as functionality in which we take a file name as an\n",
    "argument and for any given path,we save the file at that path and rewrite the content at any given\n",
    "name so the possible methods could be present for the accepting a file name and then another method to\n",
    "write the file.\n",
    "'''"
   ]
  },
  {
   "cell_type": "code",
   "execution_count": 8,
   "metadata": {},
   "outputs": [
    {
     "name": "stdout",
     "output_type": "stream",
     "text": [
      "abc\n",
      "def\n",
      "20\n",
      "10000\n"
     ]
    }
   ],
   "source": [
    "'''\n",
    "R-2.4 Write a Python class, Flower, that has three instance variables of type str,\n",
    "int, and float, that respectively represent the name of the flower, its num-\n",
    "ber of petals, and its price. Your class must include a constructor method\n",
    "that initializes each variable to an appropriate value, and your class should\n",
    "include methods for setting the value of each type, and retrieving the value\n",
    "of each type.\n",
    "'''\n",
    "\n",
    "class Flower:\n",
    "    def __init__(self,name,number,price):\n",
    "        self.name_flower = name\n",
    "        self.number_petals = number\n",
    "        self.price=price\n",
    "        \n",
    "    def get_name(self):\n",
    "        return self.name_flower\n",
    "    \n",
    "    def get_number_petals(self):\n",
    "        return self.number_petals\n",
    "    \n",
    "    def get_price(self):\n",
    "        return self.price\n",
    "    \n",
    "    def set_name(self,name):\n",
    "        self.name_flower = name\n",
    "        \n",
    "    def set_number(self,number):\n",
    "        self.number_petals=number\n",
    "        \n",
    "    def set_price(self,price):\n",
    "        self.price = price\n",
    "        \n",
    "new_flower=Flower('abc',2,3.0)\n",
    "flower_name=new_flower.get_name()\n",
    "print(flower_name)\n",
    "new_flower.set_name('def')\n",
    "flower_name=new_flower.get_name()\n",
    "print(flower_name)\n",
    "new_flower.set_number(20)\n",
    "flower_number=new_flower.get_number_petals()\n",
    "print(flower_number)\n",
    "new_flower.set_price(10000)\n",
    "print(new_flower.get_price())"
   ]
  },
  {
   "cell_type": "code",
   "execution_count": 1,
   "metadata": {},
   "outputs": [],
   "source": [
    "'''\n",
    "R 2.5: Use the techniques of Section 1.7 to revise the charge and make payment\n",
    "methods of the CreditCard class to ensure that the caller sends a number\n",
    "as a parameter.\n",
    "\n",
    "R-2.6 If the parameter to the make payment method of the CreditCard class\n",
    "were a negative number, that would have the effect of raising the balance\n",
    "on the account. Revise the implementation so that it raises a ValueError if\n",
    "a negative value is sent.\n",
    "\n",
    "R-2.7 The CreditCard class of Section 2.3 initializes the balance of a new ac-\n",
    "count to zero. Modify that class so that a new account can be given a\n",
    "nonzero balance using an optional fifth parameter to the constructor. The\n",
    "four-parameter constructor syntax should continue to produce an account\n",
    "with zero balance.\n",
    "'''\n",
    "\n",
    "class CrediCart:\n",
    "    def __init__(self, customer, bank, acnt, limit, balance=0):\n",
    "        self._cunstomer = customer\n",
    "        self._bank = bank\n",
    "        self._acnt = acnt\n",
    "        self._limit = limit\n",
    "        self._balance = balance\n",
    "        \n",
    "    def charge(self,amount):\n",
    "        \n",
    "        try:\n",
    "            isinstance(amount,(int,float,complex))\n",
    "        except Exception as e:\n",
    "            print(\"number must be an int,number or a complex number\")\n",
    "            return e\n",
    "        # if charge would exceed limit,\n",
    "        if price + self._balance > self._limit:\n",
    "            return False\n",
    "        # cannot accept charge\n",
    "        else:\n",
    "            self._balance += price\n",
    "            return True\n",
    "        \n",
    "    def make_payment(self,amount):\n",
    "        \n",
    "        try:\n",
    "            isinstance(amount,(int,float,complex))\n",
    "        except Exception as e:\n",
    "            print(\"number must be an int,number or a complex number\")\n",
    "            return e\n",
    "        \n",
    "        if amount<0:\n",
    "            raise ValueError(\"The payent amount cannot be negative since \")\n",
    "        self._balance -= amount"
   ]
  },
  {
   "cell_type": "code",
   "execution_count": 7,
   "metadata": {},
   "outputs": [],
   "source": [
    "'''\n",
    "R-2.9 Implement the sub method for the Vector class of Section 2.3.3, so\n",
    "that the expression u−v returns a new vector instance representing the\n",
    "difference between two vectors.\n",
    "\n",
    "R-2.10 Implement the neg method for the Vector class of Section 2.3.3, so\n",
    "that the expression −v returns a new vector instance whose coordinates\n",
    "are all the negated values of the respective coordinates of v.\n",
    "\n",
    "R-2.11 In Section 2.3.3, we note that our Vector class supports a syntax such as\n",
    "v = u + [5, 3, 10, −2, 1], in which the sum of a vector and list returns\n",
    "a new vector. However, the syntax v = [5, 3, 10, −2, 1] + u is illegal.\n",
    "Explain how the Vector class definition can be revised so that this syntax\n",
    "generates a new vector.\n",
    "\n",
    "Possible Ans:In this,what we need to do is modify the add operation to check for the\n",
    "type of other operand and proceed accordingly. In that if it's a vector object then we can do \n",
    "something simillar to the multiplication operation\n",
    "\n",
    "R-2.12 Implement the mul method for the Vector class of Section 2.3.3, so\n",
    "that the expression v 3 returns a new vector with coordinates that are 3\n",
    "times the respective coordinates of v.\n",
    "\n",
    "R-2.13 Exercise R-2.12 asks for an implementation of mul , for the Vector\n",
    "class of Section 2.3.3, to provide support for the syntax v 3. Implement\n",
    "the rmul method, to provide additional support for syntax 3 v.\n",
    "\n",
    "R-2.14 Implement the mul method for the Vector class of Section 2.3.3, so\n",
    "that the expression u v returns a scalar that represents the dot product of\n",
    "the vectors, that is, ∑di=1 ui · vi .\n",
    "\n",
    "R-2.15 The Vector class of Section 2.3.3 provides a constructor that takes an in-\n",
    "teger d, and produces a d-dimensional vector with all coordinates equal to\n",
    "0. Another convenient form for creating a new vector would be to send the\n",
    "constructor a parameter that is some iterable type representing a sequence\n",
    "of numbers, and to create a vector with dimension equal to the length of\n",
    "that sequence and coordinates equal to the sequence values. For example,\n",
    "Vector([4, 7, 5]) would produce a three-dimensional vector with coordi-\n",
    "nates <4, 7, 5>. Modify the constructor so that either of these forms is\n",
    "acceptable; that is, if a single integer is sent, it produces a vector of that\n",
    "dimension with all zeros, but if a sequence of numbers is provided, it pro-\n",
    "duces a vector with coordinates based on that sequence.\n",
    "'''\n",
    "\n",
    "class Vector:\n",
    "    \n",
    "    '''Represent a vector in a multidimensional space.'''\n",
    "    \n",
    "    def __init__(self, d):\n",
    "        \n",
    "        \"\"\"Create d-dimensional vector of zeros.\"\"\"\n",
    "        if isinstance(d,int):\n",
    "            \n",
    "            self._coords = [0]*d\n",
    "            \n",
    "        elif isinstance(d,(list)):\n",
    "            self._coords=d\n",
    "        \n",
    "    def __len__(self):\n",
    "        \n",
    "        '''Return the dimension of the vector.'''\n",
    "        return len(self._coords)\n",
    "    \n",
    "    def __getitem__(self,j):\n",
    "        \n",
    "        '''Return the jth coordinate of vector'''\n",
    "        return self._coords[j]\n",
    "    \n",
    "    def __setitem__(self,j,val):\n",
    "        \n",
    "        '''Set jth coordinate of vector to a given value'''\n",
    "        self._coords[j]=val\n",
    "        \n",
    "    def __add__(self,other):\n",
    "        \n",
    "        '''Adding Vectors Together'''\n",
    "        \n",
    "        if len(self)!=len(other):\n",
    "            raise ValueError('The dimensions must be the same')\n",
    "        \n",
    "        result = Vector(len(self))\n",
    "        \n",
    "        for item in range(len(result)):\n",
    "            result[j]=self[j]+other[j]\n",
    "            \n",
    "        return result\n",
    "    \n",
    "    def __sub__(self,other):\n",
    "        \n",
    "        '''Subtracting Vectors Together'''\n",
    "        \n",
    "        if len(self)!=len(other):\n",
    "            raise ValueError('The dimensions must be the same')\n",
    "        \n",
    "        result = Vector(len(self))\n",
    "        \n",
    "        for item in range(len(result)):\n",
    "            result[j]=self[j]-other[j]\n",
    "            \n",
    "        return result\n",
    "    \n",
    "    def __eq__(self,other):\n",
    "        '''Check if Vectors are equal'''\n",
    "        return self._coords == other._coords\n",
    "    \n",
    "    def __mul__(self,factor):\n",
    "        '''Multiplying a Constant Facotr to the vector'''\n",
    "        \n",
    "        new_vector=Vector(len(self._coords))\n",
    "        \n",
    "        if isinstance(factor,Vector):\n",
    "            assert len(factor) == len(self._coords)\n",
    "            for item in range(len(new_vector)):\n",
    "                final_sum+=self[j]*factor[j]\n",
    "                \n",
    "            return final_sum\n",
    "        \n",
    "        for index,item in enumerate(self._coords):\n",
    "            result[index]=item*factor\n",
    "            \n",
    "        return result\n",
    "    \n",
    "    def __rmul__(self,factor):\n",
    "        '''Support for the Syntax 3*v'''\n",
    "        return __mul__(self,factor)\n",
    "    \n",
    "    def __neg__(self):\n",
    "        \n",
    "        '''Return Negation of a Vector(Multiply all values by 1)'''\n",
    "        \n",
    "        result=Vector(len(self._coords))\n",
    "        \n",
    "        for index,item in enumerate(self._coords):\n",
    "            result[index] = -item\n",
    "            \n",
    "        return result\n",
    "        \n",
    "    def __ne__(self,other):\n",
    "        '''Checking if vectors are not equal'''\n",
    "        return not self != other\n",
    "    \n",
    "    def __str__(self):\n",
    "        '''String representation of the Vector'''\n",
    "        return '<'+str(self._coords[1:-1])+'>'\n",
    "    "
   ]
  },
  {
   "cell_type": "code",
   "execution_count": 8,
   "metadata": {},
   "outputs": [
    {
     "data": {
      "text/plain": [
       "'\\nR 2.16: Our Range class, from Section 2.3.5, relies on the formula\\nmax(0, (stop − start + step − 1) // step)\\nto compute the number of elements in the range. It is not immediately ev-\\nident why this formula provides the correct calculation, even if assuming\\na positive step size. Justify this formula, in your own words.\\n\\n\\nif start is 1 and stop is 5 step is 1\\n\\nthe max will be ((5-1)+1)//1=4\\nso elements will be in range(0,4) which is correct\\n\\nfor a negative step size,for the same case it will be (5-1+-2)//-1\\nthe elements will be in range (1,-2) which is correct for this case.\\n'"
      ]
     },
     "execution_count": 8,
     "metadata": {},
     "output_type": "execute_result"
    }
   ],
   "source": [
    "'''\n",
    "R 2.16: Our Range class, from Section 2.3.5, relies on the formula\n",
    "max(0, (stop − start + step − 1) // step)\n",
    "to compute the number of elements in the range. It is not immediately ev-\n",
    "ident why this formula provides the correct calculation, even if assuming\n",
    "a positive step size. Justify this formula, in your own words.\n",
    "\n",
    "\n",
    "if start is 1 and stop is 5 step is 1\n",
    "\n",
    "the max will be ((5-1)+1)//1=4\n",
    "so elements will be in range(0,4) which is correct\n",
    "\n",
    "for a negative step size,for the same case it will be (5-1+-2)//-1\n",
    "the elements will be in range (1,-2) which is correct for this case.\n",
    "'''"
   ]
  },
  {
   "cell_type": "code",
   "execution_count": 9,
   "metadata": {},
   "outputs": [
    {
     "ename": "NameError",
     "evalue": "name 'Object' is not defined",
     "output_type": "error",
     "traceback": [
      "\u001b[0;31m---------------------------------------------------------------------------\u001b[0m",
      "\u001b[0;31mNameError\u001b[0m                                 Traceback (most recent call last)",
      "\u001b[0;32m<ipython-input-9-cb18490f4778>\u001b[0m in \u001b[0;36m<module>\u001b[0;34m\u001b[0m\n\u001b[1;32m     13\u001b[0m '''\n\u001b[1;32m     14\u001b[0m \u001b[0;34m\u001b[0m\u001b[0m\n\u001b[0;32m---> 15\u001b[0;31m \u001b[0;32mclass\u001b[0m \u001b[0mGoat\u001b[0m\u001b[0;34m(\u001b[0m\u001b[0mObject\u001b[0m\u001b[0;34m)\u001b[0m\u001b[0;34m:\u001b[0m\u001b[0;34m\u001b[0m\u001b[0;34m\u001b[0m\u001b[0m\n\u001b[0m\u001b[1;32m     16\u001b[0m     \u001b[0;32mdef\u001b[0m \u001b[0m__init__\u001b[0m\u001b[0;34m(\u001b[0m\u001b[0mself\u001b[0m\u001b[0;34m,\u001b[0m\u001b[0mtail\u001b[0m\u001b[0;34m)\u001b[0m\u001b[0;34m:\u001b[0m\u001b[0;34m\u001b[0m\u001b[0;34m\u001b[0m\u001b[0m\n\u001b[1;32m     17\u001b[0m         \u001b[0msuper\u001b[0m\u001b[0;34m(\u001b[0m\u001b[0;34m)\u001b[0m\u001b[0;34m.\u001b[0m\u001b[0m__init__\u001b[0m\u001b[0;34m(\u001b[0m\u001b[0mObject\u001b[0m\u001b[0;34m)\u001b[0m\u001b[0;34m\u001b[0m\u001b[0;34m\u001b[0m\u001b[0m\n",
      "\u001b[0;31mNameError\u001b[0m: name 'Object' is not defined"
     ]
    }
   ],
   "source": [
    "'''\n",
    "R 2.17:\n",
    " Draw a class inheritance diagram for the following set of classes:\n",
    "• Class Goat extends object and adds an instance variable tail and\n",
    "methods milk( ) and jump( ).\n",
    "• Class Pig extends object and adds an instance variable nose and\n",
    "methods eat(food) and wallow( ).\n",
    "• Class Horse extends object and adds instance variables height and\n",
    "color, and methods run( ) and jump( ).\n",
    "• Class Racer extends Horse and adds a method race( ).\n",
    "• Class Equestrian extends Horse, adding an instance variable weight\n",
    "and methods trot( ) and is trained( ).\n",
    "'''\n",
    "\n",
    "class Goat(Object):\n",
    "    def __init__(self,tail):\n",
    "        super().__init__(Object)\n",
    "        self.tail=tail\n",
    "        \n",
    "    def milk(self):\n",
    "        pass\n",
    "    def jump(self):\n",
    "        pass\n",
    "    \n",
    "class Pig(Object):\n",
    "    def __init__(nose):\n",
    "        super().__init__(Object)\n",
    "        self.nose=nose\n",
    "        \n",
    "    def eat(self,food):\n",
    "        pass\n",
    "    \n",
    "    def wallow(self):\n",
    "        pass\n",
    "\n",
    "class Horse(Object):\n",
    "    def __init__(self,height,color):\n",
    "        super().__init__(Object)\n",
    "        self.heght=height\n",
    "        self.color=height\n",
    "    def run(self):\n",
    "        pass\n",
    "    def jump(self):\n",
    "        pass\n",
    "    \n",
    "class Racer(Horse):\n",
    "    def __init__(self):\n",
    "        super().__init__(Horse)\n",
    "        \n",
    "    def race(self):\n",
    "        pass\n",
    "    \n",
    "class Equesterian(Horse):\n",
    "    def __init__(self):\n",
    "        super().__init__(Horse)\n",
    "    \n",
    "    def trot(self):\n",
    "        pass\n",
    "    \n",
    "    def is_trained(self):\n",
    "        pass"
   ]
  },
  {
   "cell_type": "code",
   "execution_count": 10,
   "metadata": {},
   "outputs": [
    {
     "data": {
      "text/plain": [
       "'\\nR 2.18  Give a short fragment of Python code that uses the progression classes\\nfrom Section 2.4.2 to find the 8 th value of a Fibonacci progression that\\nstarts with 2 and 2 as its first two values.\\n\\nprog_object=FibonacciProgression(2)\\nprog_object.print_progression(8)\\n'"
      ]
     },
     "execution_count": 10,
     "metadata": {},
     "output_type": "execute_result"
    }
   ],
   "source": [
    "'''\n",
    "R 2.18  Give a short fragment of Python code that uses the progression classes\n",
    "from Section 2.4.2 to find the 8 th value of a Fibonacci progression that\n",
    "starts with 2 and 2 as its first two values.\n",
    "\n",
    "prog_object=FibonacciProgression(2)\n",
    "prog_object.print_progression(8)\n",
    "'''"
   ]
  },
  {
   "cell_type": "code",
   "execution_count": 13,
   "metadata": {},
   "outputs": [
    {
     "data": {
      "text/plain": [
       "72057594037927936"
      ]
     },
     "execution_count": 13,
     "metadata": {},
     "output_type": "execute_result"
    }
   ],
   "source": [
    "'''\n",
    "R 2.19 When using the ArithmeticProgression class of Section 2.4.2 with an in-\n",
    "crement of 128 and a start of 0, how many calls to next can we make\n",
    "before we reach an integer of 2^63 or larger?\n",
    "'''\n",
    "\n",
    "steps=pow(2,63-7)\n",
    "steps"
   ]
  },
  {
   "cell_type": "code",
   "execution_count": 14,
   "metadata": {},
   "outputs": [
    {
     "data": {
      "text/plain": [
       "\"\\nR 2.20: What are some potential efficiency disadvantages of having very deep in-\\nheritance trees, that is, a large set of classes, A, B, C, and so on, such that\\nB extends A, C extends B, D extends C, etc.?\\n\\nOne Potential Issue will be tracking all these inheritences manually and over time,this will add to the overhead of making too many nested calls since each call will have to maintain reference to it's parent object and everything.\\n\""
      ]
     },
     "execution_count": 14,
     "metadata": {},
     "output_type": "execute_result"
    }
   ],
   "source": [
    "'''\n",
    "R 2.20: What are some potential efficiency disadvantages of having very deep in-\n",
    "heritance trees, that is, a large set of classes, A, B, C, and so on, such that\n",
    "B extends A, C extends B, D extends C, etc.?\n",
    "\n",
    "One Potential Issue will be tracking all these inheritences manually and over time,this will add to the overhead of making too many nested calls since each call will have to maintain reference to it's parent object and everything.\n",
    "'''"
   ]
  },
  {
   "cell_type": "code",
   "execution_count": 15,
   "metadata": {},
   "outputs": [
    {
     "data": {
      "text/plain": [
       "'\\nR 2.21:\\n\\nWhat are some potential efficiency disadvantages of having very shallow\\ninheritance trees, that is, a large set of classes, A, B, C, and so on, such\\nthat all of these classes extend a single class, Z?\\n\\nThe disadvantage is that if some variable only needs to be used for a single class say A and B,we will end up importing that for all of the classes which extend the same base class Z.\\n\\n'"
      ]
     },
     "execution_count": 15,
     "metadata": {},
     "output_type": "execute_result"
    }
   ],
   "source": [
    "'''\n",
    "R 2.21:\n",
    "\n",
    "What are some potential efficiency disadvantages of having very shallow\n",
    "inheritance trees, that is, a large set of classes, A, B, C, and so on, such\n",
    "that all of these classes extend a single class, Z?\n",
    "\n",
    "The disadvantage is that if some variable only needs to be used for a single class say A and B,we will end up importing that for all of the classes which extend the same base class Z.\n",
    "\n",
    "'''"
   ]
  },
  {
   "cell_type": "code",
   "execution_count": 16,
   "metadata": {},
   "outputs": [
    {
     "data": {
      "text/plain": [
       "'\\nR 2.22\\n\\nThe collections.Sequence abstract base class does not provide support for\\ncomparing two sequences to each other. Modify our Sequence class from\\nCode Fragment 2.14 to include a definition for the eq method, so\\nthat expression seq1 == seq2 will return True precisely when the two\\nsequences are element by element equivalent.\\n\\ndef __eq__(self,first,second):\\n    assert(len(first)==len(second))\\n    \\n    for item in range(first):\\n        if first[item]!=second[item]:\\n           return False\\n    return True\\n'"
      ]
     },
     "execution_count": 16,
     "metadata": {},
     "output_type": "execute_result"
    }
   ],
   "source": [
    "'''\n",
    "R 2.22\n",
    "\n",
    "The collections.Sequence abstract base class does not provide support for\n",
    "comparing two sequences to each other. Modify our Sequence class from\n",
    "Code Fragment 2.14 to include a definition for the eq method, so\n",
    "that expression seq1 == seq2 will return True precisely when the two\n",
    "sequences are element by element equivalent.\n",
    "\n",
    "def __eq__(self,first,second):\n",
    "    assert(len(first)==len(second))\n",
    "    \n",
    "    for item in range(first):\n",
    "        if first[item]!=second[item]:\n",
    "           return False\n",
    "    return True\n",
    "'''"
   ]
  },
  {
   "cell_type": "code",
   "execution_count": null,
   "metadata": {},
   "outputs": [],
   "source": [
    "'''\n",
    "R 2.23  In similar spirit to the previous problem, augment the Sequence class with\n",
    "method lt , to support lexicographic comparison seq1 < seq2.\n",
    "\n",
    "def __lt__(self,first,second):\n",
    "    assert(len(first)==len(second))\n",
    "    \n",
    "    for item in range(first):\n",
    "        if first[item]>second[item]:\n",
    "           return False\n",
    "    return True\n",
    "'''"
   ]
  }
 ],
 "metadata": {
  "kernelspec": {
   "display_name": "Python 3",
   "language": "python",
   "name": "python3"
  },
  "language_info": {
   "codemirror_mode": {
    "name": "ipython",
    "version": 3
   },
   "file_extension": ".py",
   "mimetype": "text/x-python",
   "name": "python",
   "nbconvert_exporter": "python",
   "pygments_lexer": "ipython3",
   "version": "3.8.2"
  }
 },
 "nbformat": 4,
 "nbformat_minor": 4
}
