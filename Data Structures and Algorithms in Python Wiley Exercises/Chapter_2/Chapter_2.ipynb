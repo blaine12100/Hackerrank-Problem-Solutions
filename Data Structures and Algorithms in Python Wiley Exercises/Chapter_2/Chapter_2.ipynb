{
 "cells": [
  {
   "cell_type": "markdown",
   "metadata": {},
   "source": [
    "This Notebok contains solutions for Chapter 2(Object Oriented Programming)"
   ]
  },
  {
   "cell_type": "code",
   "execution_count": null,
   "metadata": {},
   "outputs": [],
   "source": [
    "'''\n",
    "R 2.1 Give three examples of life-critical software applications.\n",
    "\n",
    "1) Any Kind of Machine which has any software component like a Ventilator or Chemotheray machine using which we\n",
    "can configure the amount of radiation/oxygen to send to the body\n",
    "\n",
    "2) A Robot Which Performs Remote Surgery Since it uses Video Conferencing and other stuffs to perform\n",
    "it's actions.\n",
    "\n",
    "3) A Pacemaker because the pacemaker can decide how much heart beat is to be given based on some limit\n",
    "ing conditions\n",
    "\n",
    "https://www.wired.com/2016/02/i-want-to-know-what-code-is-running-inside-my-body/\n",
    "'''"
   ]
  },
  {
   "cell_type": "code",
   "execution_count": null,
   "metadata": {},
   "outputs": [],
   "source": [
    "'''\n",
    "R-2.2 Give an example of a software application in which adaptability can mean\n",
    "the difference between a prolonged lifetime of sales and bankruptcy\n",
    "\n",
    "An Example of an adaptable software could be some kind of a Software Sales Processing Software like \n",
    "Tally in which if the code is easily modifiable then it is able to incorporate changes in response to\n",
    "market conditions but if it is unable to do so then the company itself can become bankrupt since some\n",
    "other competitor can build this software and nobody will buy it then.\n",
    "'''"
   ]
  },
  {
   "cell_type": "code",
   "execution_count": null,
   "metadata": {},
   "outputs": [],
   "source": [
    "'''\n",
    "R-2.3 Describe a component from a text-editor GUI and the methods that it en-\n",
    "capsulates.\n",
    "\n",
    "A Simple component will be the component for Save as functionality in which we take a file name as an\n",
    "argument and for any given path,we save the file at that path and rewrite the content at any given\n",
    "name so the possible methods could be present for the accepting a file name and then another method to\n",
    "write the file.\n",
    "'''"
   ]
  },
  {
   "cell_type": "code",
   "execution_count": 8,
   "metadata": {},
   "outputs": [
    {
     "name": "stdout",
     "output_type": "stream",
     "text": [
      "abc\n",
      "def\n",
      "20\n",
      "10000\n"
     ]
    }
   ],
   "source": [
    "'''\n",
    "R-2.4 Write a Python class, Flower, that has three instance variables of type str,\n",
    "int, and float, that respectively represent the name of the flower, its num-\n",
    "ber of petals, and its price. Your class must include a constructor method\n",
    "that initializes each variable to an appropriate value, and your class should\n",
    "include methods for setting the value of each type, and retrieving the value\n",
    "of each type.\n",
    "'''\n",
    "\n",
    "class Flower:\n",
    "    def __init__(self,name,number,price):\n",
    "        self.name_flower = name\n",
    "        self.number_petals = number\n",
    "        self.price=price\n",
    "        \n",
    "    def get_name(self):\n",
    "        return self.name_flower\n",
    "    \n",
    "    def get_number_petals(self):\n",
    "        return self.number_petals\n",
    "    \n",
    "    def get_price(self):\n",
    "        return self.price\n",
    "    \n",
    "    def set_name(self,name):\n",
    "        self.name_flower = name\n",
    "        \n",
    "    def set_number(self,number):\n",
    "        self.number_petals=number\n",
    "        \n",
    "    def set_price(self,price):\n",
    "        self.price = price\n",
    "        \n",
    "new_flower=Flower('abc',2,3.0)\n",
    "flower_name=new_flower.get_name()\n",
    "print(flower_name)\n",
    "new_flower.set_name('def')\n",
    "flower_name=new_flower.get_name()\n",
    "print(flower_name)\n",
    "new_flower.set_number(20)\n",
    "flower_number=new_flower.get_number_petals()\n",
    "print(flower_number)\n",
    "new_flower.set_price(10000)\n",
    "print(new_flower.get_price())"
   ]
  },
  {
   "cell_type": "code",
   "execution_count": null,
   "metadata": {},
   "outputs": [],
   "source": []
  }
 ],
 "metadata": {
  "kernelspec": {
   "display_name": "Python 3",
   "language": "python",
   "name": "python3"
  },
  "language_info": {
   "codemirror_mode": {
    "name": "ipython",
    "version": 3
   },
   "file_extension": ".py",
   "mimetype": "text/x-python",
   "name": "python",
   "nbconvert_exporter": "python",
   "pygments_lexer": "ipython3",
   "version": "3.8.2"
  }
 },
 "nbformat": 4,
 "nbformat_minor": 4
}
